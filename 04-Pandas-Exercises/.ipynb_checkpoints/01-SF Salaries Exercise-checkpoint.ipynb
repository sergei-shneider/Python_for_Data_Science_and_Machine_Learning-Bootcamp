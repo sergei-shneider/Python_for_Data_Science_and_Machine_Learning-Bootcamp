{
 "cells": [
  {
   "cell_type": "markdown",
   "metadata": {},
   "source": [
    "___\n",
    "\n",
    "<a href='http://www.pieriandata.com'> <img src='../../Pierian_Data_Logo.png' /></a>\n",
    "___"
   ]
  },
  {
   "cell_type": "markdown",
   "metadata": {},
   "source": [
    "# SF Salaries Exercise \n",
    "\n",
    "Welcome to a quick exercise for you to practice your pandas skills! We will be using the [SF Salaries Dataset](https://www.kaggle.com/kaggle/sf-salaries) from Kaggle! Just follow along and complete the tasks outlined in bold below. The tasks will get harder and harder as you go along."
   ]
  },
  {
   "cell_type": "markdown",
   "metadata": {},
   "source": [
    "** Import pandas as pd.**"
   ]
  },
  {
   "cell_type": "code",
   "execution_count": 1,
   "metadata": {},
   "outputs": [],
   "source": [
    "import pandas as pd"
   ]
  },
  {
   "cell_type": "markdown",
   "metadata": {},
   "source": [
    "** Read Salaries.csv as a dataframe called sal.**"
   ]
  },
  {
   "cell_type": "code",
   "execution_count": 3,
   "metadata": {
    "collapsed": false,
    "jupyter": {
     "outputs_hidden": false
    }
   },
   "outputs": [],
   "source": [
    "sal = pd.read_csv('Salaries.csv')"
   ]
  },
  {
   "cell_type": "markdown",
   "metadata": {},
   "source": [
    "** Check the head of the DataFrame. **"
   ]
  },
  {
   "cell_type": "code",
   "execution_count": 7,
   "metadata": {
    "collapsed": false,
    "jupyter": {
     "outputs_hidden": false
    }
   },
   "outputs": [
    {
     "data": {
      "text/html": [
       "<div>\n",
       "<style scoped>\n",
       "    .dataframe tbody tr th:only-of-type {\n",
       "        vertical-align: middle;\n",
       "    }\n",
       "\n",
       "    .dataframe tbody tr th {\n",
       "        vertical-align: top;\n",
       "    }\n",
       "\n",
       "    .dataframe thead th {\n",
       "        text-align: right;\n",
       "    }\n",
       "</style>\n",
       "<table border=\"1\" class=\"dataframe\">\n",
       "  <thead>\n",
       "    <tr style=\"text-align: right;\">\n",
       "      <th></th>\n",
       "      <th>Id</th>\n",
       "      <th>EmployeeName</th>\n",
       "      <th>JobTitle</th>\n",
       "      <th>BasePay</th>\n",
       "      <th>OvertimePay</th>\n",
       "      <th>OtherPay</th>\n",
       "      <th>Benefits</th>\n",
       "      <th>TotalPay</th>\n",
       "      <th>TotalPayBenefits</th>\n",
       "      <th>Year</th>\n",
       "      <th>Notes</th>\n",
       "      <th>Agency</th>\n",
       "      <th>Status</th>\n",
       "    </tr>\n",
       "  </thead>\n",
       "  <tbody>\n",
       "    <tr>\n",
       "      <th>0</th>\n",
       "      <td>1</td>\n",
       "      <td>NATHANIEL FORD</td>\n",
       "      <td>GENERAL MANAGER-METROPOLITAN TRANSIT AUTHORITY</td>\n",
       "      <td>167411.18</td>\n",
       "      <td>0.00</td>\n",
       "      <td>400184.25</td>\n",
       "      <td>NaN</td>\n",
       "      <td>567595.43</td>\n",
       "      <td>567595.43</td>\n",
       "      <td>2011</td>\n",
       "      <td>NaN</td>\n",
       "      <td>San Francisco</td>\n",
       "      <td>NaN</td>\n",
       "    </tr>\n",
       "    <tr>\n",
       "      <th>1</th>\n",
       "      <td>2</td>\n",
       "      <td>GARY JIMENEZ</td>\n",
       "      <td>CAPTAIN III (POLICE DEPARTMENT)</td>\n",
       "      <td>155966.02</td>\n",
       "      <td>245131.88</td>\n",
       "      <td>137811.38</td>\n",
       "      <td>NaN</td>\n",
       "      <td>538909.28</td>\n",
       "      <td>538909.28</td>\n",
       "      <td>2011</td>\n",
       "      <td>NaN</td>\n",
       "      <td>San Francisco</td>\n",
       "      <td>NaN</td>\n",
       "    </tr>\n",
       "    <tr>\n",
       "      <th>2</th>\n",
       "      <td>3</td>\n",
       "      <td>ALBERT PARDINI</td>\n",
       "      <td>CAPTAIN III (POLICE DEPARTMENT)</td>\n",
       "      <td>212739.13</td>\n",
       "      <td>106088.18</td>\n",
       "      <td>16452.60</td>\n",
       "      <td>NaN</td>\n",
       "      <td>335279.91</td>\n",
       "      <td>335279.91</td>\n",
       "      <td>2011</td>\n",
       "      <td>NaN</td>\n",
       "      <td>San Francisco</td>\n",
       "      <td>NaN</td>\n",
       "    </tr>\n",
       "    <tr>\n",
       "      <th>3</th>\n",
       "      <td>4</td>\n",
       "      <td>CHRISTOPHER CHONG</td>\n",
       "      <td>WIRE ROPE CABLE MAINTENANCE MECHANIC</td>\n",
       "      <td>77916.00</td>\n",
       "      <td>56120.71</td>\n",
       "      <td>198306.90</td>\n",
       "      <td>NaN</td>\n",
       "      <td>332343.61</td>\n",
       "      <td>332343.61</td>\n",
       "      <td>2011</td>\n",
       "      <td>NaN</td>\n",
       "      <td>San Francisco</td>\n",
       "      <td>NaN</td>\n",
       "    </tr>\n",
       "    <tr>\n",
       "      <th>4</th>\n",
       "      <td>5</td>\n",
       "      <td>PATRICK GARDNER</td>\n",
       "      <td>DEPUTY CHIEF OF DEPARTMENT,(FIRE DEPARTMENT)</td>\n",
       "      <td>134401.60</td>\n",
       "      <td>9737.00</td>\n",
       "      <td>182234.59</td>\n",
       "      <td>NaN</td>\n",
       "      <td>326373.19</td>\n",
       "      <td>326373.19</td>\n",
       "      <td>2011</td>\n",
       "      <td>NaN</td>\n",
       "      <td>San Francisco</td>\n",
       "      <td>NaN</td>\n",
       "    </tr>\n",
       "  </tbody>\n",
       "</table>\n",
       "</div>"
      ],
      "text/plain": [
       "   Id       EmployeeName                                        JobTitle  \\\n",
       "0   1     NATHANIEL FORD  GENERAL MANAGER-METROPOLITAN TRANSIT AUTHORITY   \n",
       "1   2       GARY JIMENEZ                 CAPTAIN III (POLICE DEPARTMENT)   \n",
       "2   3     ALBERT PARDINI                 CAPTAIN III (POLICE DEPARTMENT)   \n",
       "3   4  CHRISTOPHER CHONG            WIRE ROPE CABLE MAINTENANCE MECHANIC   \n",
       "4   5    PATRICK GARDNER    DEPUTY CHIEF OF DEPARTMENT,(FIRE DEPARTMENT)   \n",
       "\n",
       "     BasePay  OvertimePay   OtherPay  Benefits   TotalPay  TotalPayBenefits  \\\n",
       "0  167411.18         0.00  400184.25       NaN  567595.43         567595.43   \n",
       "1  155966.02    245131.88  137811.38       NaN  538909.28         538909.28   \n",
       "2  212739.13    106088.18   16452.60       NaN  335279.91         335279.91   \n",
       "3   77916.00     56120.71  198306.90       NaN  332343.61         332343.61   \n",
       "4  134401.60      9737.00  182234.59       NaN  326373.19         326373.19   \n",
       "\n",
       "   Year  Notes         Agency  Status  \n",
       "0  2011    NaN  San Francisco     NaN  \n",
       "1  2011    NaN  San Francisco     NaN  \n",
       "2  2011    NaN  San Francisco     NaN  \n",
       "3  2011    NaN  San Francisco     NaN  \n",
       "4  2011    NaN  San Francisco     NaN  "
      ]
     },
     "execution_count": 7,
     "metadata": {},
     "output_type": "execute_result"
    }
   ],
   "source": [
    "sal.head()"
   ]
  },
  {
   "cell_type": "markdown",
   "metadata": {},
   "source": [
    "** Use the .info() method to find out how many entries there are.**"
   ]
  },
  {
   "cell_type": "code",
   "execution_count": 9,
   "metadata": {
    "collapsed": false,
    "jupyter": {
     "outputs_hidden": false
    }
   },
   "outputs": [
    {
     "name": "stdout",
     "output_type": "stream",
     "text": [
      "<class 'pandas.core.frame.DataFrame'>\n",
      "RangeIndex: 148654 entries, 0 to 148653\n",
      "Data columns (total 13 columns):\n",
      " #   Column            Non-Null Count   Dtype  \n",
      "---  ------            --------------   -----  \n",
      " 0   Id                148654 non-null  int64  \n",
      " 1   EmployeeName      148654 non-null  object \n",
      " 2   JobTitle          148654 non-null  object \n",
      " 3   BasePay           148045 non-null  float64\n",
      " 4   OvertimePay       148650 non-null  float64\n",
      " 5   OtherPay          148650 non-null  float64\n",
      " 6   Benefits          112491 non-null  float64\n",
      " 7   TotalPay          148654 non-null  float64\n",
      " 8   TotalPayBenefits  148654 non-null  float64\n",
      " 9   Year              148654 non-null  int64  \n",
      " 10  Notes             0 non-null       float64\n",
      " 11  Agency            148654 non-null  object \n",
      " 12  Status            0 non-null       float64\n",
      "dtypes: float64(8), int64(2), object(3)\n",
      "memory usage: 14.7+ MB\n"
     ]
    }
   ],
   "source": [
    "sal.info()"
   ]
  },
  {
   "cell_type": "markdown",
   "metadata": {},
   "source": [
    "**What is the average BasePay ?**"
   ]
  },
  {
   "cell_type": "code",
   "execution_count": 13,
   "metadata": {
    "collapsed": false,
    "jupyter": {
     "outputs_hidden": false
    }
   },
   "outputs": [
    {
     "data": {
      "text/plain": [
       "66325.4488404877"
      ]
     },
     "execution_count": 13,
     "metadata": {},
     "output_type": "execute_result"
    }
   ],
   "source": [
    "sal['BasePay'].mean()"
   ]
  },
  {
   "cell_type": "markdown",
   "metadata": {},
   "source": [
    "** What is the highest amount of OvertimePay in the dataset ? **"
   ]
  },
  {
   "cell_type": "code",
   "execution_count": 15,
   "metadata": {
    "collapsed": false,
    "jupyter": {
     "outputs_hidden": false
    }
   },
   "outputs": [
    {
     "data": {
      "text/plain": [
       "245131.88"
      ]
     },
     "execution_count": 15,
     "metadata": {},
     "output_type": "execute_result"
    }
   ],
   "source": [
    "sal['OvertimePay'].max()"
   ]
  },
  {
   "cell_type": "markdown",
   "metadata": {},
   "source": [
    "** What is the job title of  JOSEPH DRISCOLL ? Note: Use all caps, otherwise you may get an answer that doesn't match up (there is also a lowercase Joseph Driscoll). **"
   ]
  },
  {
   "cell_type": "code",
   "execution_count": 27,
   "metadata": {
    "collapsed": false,
    "jupyter": {
     "outputs_hidden": false
    }
   },
   "outputs": [
    {
     "data": {
      "text/plain": [
       "24    CAPTAIN, FIRE SUPPRESSION\n",
       "Name: JobTitle, dtype: object"
      ]
     },
     "execution_count": 27,
     "metadata": {},
     "output_type": "execute_result"
    }
   ],
   "source": [
    "sal[sal['EmployeeName']=='JOSEPH DRISCOLL']['JobTitle']"
   ]
  },
  {
   "cell_type": "markdown",
   "metadata": {},
   "source": [
    "** How much does JOSEPH DRISCOLL make (including benefits)? **"
   ]
  },
  {
   "cell_type": "code",
   "execution_count": 29,
   "metadata": {
    "collapsed": false,
    "jupyter": {
     "outputs_hidden": false
    }
   },
   "outputs": [
    {
     "data": {
      "text/plain": [
       "24    270324.91\n",
       "Name: TotalPayBenefits, dtype: float64"
      ]
     },
     "execution_count": 29,
     "metadata": {},
     "output_type": "execute_result"
    }
   ],
   "source": [
    "sal[sal['EmployeeName']=='JOSEPH DRISCOLL']['TotalPayBenefits']"
   ]
  },
  {
   "cell_type": "markdown",
   "metadata": {},
   "source": [
    "** What is the name of highest paid person (including benefits)?**"
   ]
  },
  {
   "cell_type": "code",
   "execution_count": 33,
   "metadata": {
    "collapsed": false,
    "jupyter": {
     "outputs_hidden": false
    }
   },
   "outputs": [
    {
     "data": {
      "text/plain": [
       "0    NATHANIEL FORD\n",
       "Name: EmployeeName, dtype: object"
      ]
     },
     "execution_count": 33,
     "metadata": {},
     "output_type": "execute_result"
    }
   ],
   "source": [
    "sal[sal['TotalPayBenefits'] == sal['TotalPayBenefits'].max()]['EmployeeName']"
   ]
  },
  {
   "cell_type": "markdown",
   "metadata": {},
   "source": [
    "** What is the name of lowest paid person (including benefits)? Do you notice something strange about how much he or she is paid?**"
   ]
  },
  {
   "cell_type": "code",
   "execution_count": 35,
   "metadata": {
    "collapsed": false,
    "jupyter": {
     "outputs_hidden": false
    }
   },
   "outputs": [
    {
     "data": {
      "text/plain": [
       "148653    Joe Lopez\n",
       "Name: EmployeeName, dtype: object"
      ]
     },
     "execution_count": 35,
     "metadata": {},
     "output_type": "execute_result"
    }
   ],
   "source": [
    "sal[sal['TotalPayBenefits'] == sal['TotalPayBenefits'].min()]['EmployeeName']"
   ]
  },
  {
   "cell_type": "markdown",
   "metadata": {},
   "source": [
    "** What was the average (mean) BasePay of all employees per year? (2011-2014) ? **"
   ]
  },
  {
   "cell_type": "code",
   "execution_count": 39,
   "metadata": {
    "collapsed": false,
    "jupyter": {
     "outputs_hidden": false
    }
   },
   "outputs": [
    {
     "data": {
      "text/plain": [
       "Year\n",
       "2011    63595.956517\n",
       "2012    65436.406857\n",
       "2013    69630.030216\n",
       "2014    66564.421924\n",
       "Name: BasePay, dtype: float64"
      ]
     },
     "execution_count": 39,
     "metadata": {},
     "output_type": "execute_result"
    }
   ],
   "source": [
    "sal.groupby('Year')['BasePay'].mean()"
   ]
  },
  {
   "cell_type": "markdown",
   "metadata": {},
   "source": [
    "** How many unique job titles are there? **"
   ]
  },
  {
   "cell_type": "code",
   "execution_count": 51,
   "metadata": {
    "collapsed": false,
    "jupyter": {
     "outputs_hidden": false
    }
   },
   "outputs": [
    {
     "data": {
      "text/plain": [
       "2159"
      ]
     },
     "execution_count": 51,
     "metadata": {},
     "output_type": "execute_result"
    }
   ],
   "source": [
    "sal['JobTitle'].nunique()"
   ]
  },
  {
   "cell_type": "markdown",
   "metadata": {},
   "source": [
    "** What are the top 5 most common jobs? **"
   ]
  },
  {
   "cell_type": "code",
   "execution_count": 57,
   "metadata": {
    "collapsed": false,
    "jupyter": {
     "outputs_hidden": false
    }
   },
   "outputs": [
    {
     "data": {
      "text/plain": [
       "JobTitle\n",
       "Transit Operator                7036\n",
       "Special Nurse                   4389\n",
       "Registered Nurse                3736\n",
       "Public Svc Aide-Public Works    2518\n",
       "Police Officer 3                2421\n",
       "Name: count, dtype: int64"
      ]
     },
     "execution_count": 57,
     "metadata": {},
     "output_type": "execute_result"
    }
   ],
   "source": [
    "sal['JobTitle'].value_counts().head(5)"
   ]
  },
  {
   "cell_type": "markdown",
   "metadata": {},
   "source": [
    "** How many Job Titles were represented by only one person in 2013? (e.g. Job Titles with only one occurence in 2013?) **"
   ]
  },
  {
   "cell_type": "code",
   "execution_count": 115,
   "metadata": {
    "collapsed": false,
    "jupyter": {
     "outputs_hidden": false
    }
   },
   "outputs": [
    {
     "data": {
      "text/plain": [
       "202"
      ]
     },
     "execution_count": 115,
     "metadata": {},
     "output_type": "execute_result"
    }
   ],
   "source": [
    "sum(sal[sal['Year']==2013]['JobTitle'].value_counts() == 1)"
   ]
  },
  {
   "cell_type": "markdown",
   "metadata": {},
   "source": [
    "** How many people have the word Chief in their job title? (This is pretty tricky) **"
   ]
  },
  {
   "cell_type": "code",
   "execution_count": 141,
   "metadata": {},
   "outputs": [
    {
     "data": {
      "text/plain": [
       "['DEPUTY CHIEF OF DEPARTMENT,(FIRE DEPARTMENT)',\n",
       " 'ASSISTANT DEPUTY CHIEF II',\n",
       " 'BATTALION CHIEF, (FIRE DEPARTMENT)',\n",
       " 'BATTALION CHIEF, (FIRE DEPARTMENT)',\n",
       " 'CHIEF OF DEPARTMENT, (FIRE DEPARTMENT)',\n",
       " 'ASSISTANT CHIEF OF DEPARTMENT, (FIRE DEPARTMENT)',\n",
       " 'BATTALION CHIEF, (FIRE DEPARTMENT)',\n",
       " 'BATTALION CHIEF, (FIRE DEPARTMENT)',\n",
       " 'BATTALION CHIEF, (FIRE DEPARTMENT)',\n",
       " 'CHIEF OF POLICE',\n",
       " 'BATTALION CHIEF, (FIRE DEPARTMENT)',\n",
       " 'DEPUTY CHIEF III (POLICE DEPARTMENT)',\n",
       " 'DEPUTY CHIEF OF DEPARTMENT,(FIRE DEPARTMENT)',\n",
       " 'DEPUTY CHIEF III (POLICE DEPARTMENT)',\n",
       " 'BATTALION CHIEF, (FIRE DEPARTMENT)',\n",
       " 'BATTALION CHIEF, (FIRE DEPARTMENT)',\n",
       " 'BATTALION CHIEF, (FIRE DEPARTMENT)',\n",
       " 'BATTALION CHIEF, (FIRE DEPARTMENT)',\n",
       " 'DEPUTY CHIEF OF DEPARTMENT,(FIRE DEPARTMENT)',\n",
       " 'BATTALION CHIEF, (FIRE DEPARTMENT)',\n",
       " 'DEPUTY CHIEF III (POLICE DEPARTMENT)',\n",
       " 'BATTALION CHIEF, (FIRE DEPARTMENT)',\n",
       " 'DEPUTY CHIEF III (POLICE DEPARTMENT)',\n",
       " 'ASSISTANT DEPUTY CHIEF II',\n",
       " 'BATTALION CHIEF, (FIRE DEPARTMENT)',\n",
       " 'ASSISTANT CHIEF OF DEPARTMENT, (FIRE DEPARTMENT)',\n",
       " 'DEPUTY CHIEF III (POLICE DEPARTMENT)',\n",
       " 'BATTALION CHIEF, (FIRE DEPARTMENT)',\n",
       " 'BATTALION CHIEF, (FIRE DEPARTMENT)',\n",
       " 'BATTALION CHIEF, (FIRE DEPARTMENT)',\n",
       " 'BATTALION CHIEF, (FIRE DEPARTMENT)',\n",
       " 'BATTALION CHIEF, (FIRE DEPARTMENT)',\n",
       " 'BATTALION CHIEF, (FIRE DEPARTMENT)',\n",
       " 'BATTALION CHIEF, (FIRE DEPARTMENT)',\n",
       " 'BATTALION CHIEF, (FIRE DEPARTMENT)',\n",
       " 'BATTALION CHIEF, (FIRE DEPARTMENT)',\n",
       " 'BATTALION CHIEF, (FIRE DEPARTMENT)',\n",
       " 'BATTALION CHIEF, (FIRE DEPARTMENT)',\n",
       " 'BATTALION CHIEF, (FIRE DEPARTMENT)',\n",
       " 'BATTALION CHIEF, (FIRE DEPARTMENT)',\n",
       " 'CONFIDENTIAL CHIEF ATTORNEY II (CIVIL & CRIMINAL)',\n",
       " 'CONFIDENTIAL CHIEF ATTORNEY II (CIVIL & CRIMINAL)',\n",
       " 'CONFIDENTIAL CHIEF ATTORNEY II (CIVIL & CRIMINAL)',\n",
       " 'BATTALION CHIEF, (FIRE DEPARTMENT)',\n",
       " 'BATTALION CHIEF, (FIRE DEPARTMENT)',\n",
       " 'BATTALION CHIEF, (FIRE DEPARTMENT)',\n",
       " 'CHIEF ATTORNEY I (CIVIL & CRIMINAL)',\n",
       " 'BATTALION CHIEF, (FIRE DEPARTMENT)',\n",
       " 'BATTALION CHIEF, (FIRE DEPARTMENT)',\n",
       " 'ASSISTANT DEPUTY CHIEF II',\n",
       " 'ASSISTANT DEPUTY CHIEF II',\n",
       " 'CHIEF ATTORNEY I (CIVIL & CRIMINAL)',\n",
       " 'CHIEF ATTORNEY I (CIVIL & CRIMINAL)',\n",
       " 'BATTALION CHIEF, (FIRE DEPARTMENT)',\n",
       " 'BATTALION CHIEF, (FIRE DEPARTMENT)',\n",
       " 'ASSISTANT CHIEF ATTORNEY II',\n",
       " 'ASSISTANT CHIEF ATTORNEY II',\n",
       " 'ASSISTANT CHIEF ATTORNEY II',\n",
       " 'CHIEF PROBATION OFFICER, JUVENILE COURT',\n",
       " 'ASSISTANT CHIEF ATTORNEY II',\n",
       " 'BATTALION CHIEF, (FIRE DEPARTMENT)',\n",
       " 'CHIEF ADULT PROBATION OFFICER',\n",
       " 'BATTALION CHIEF, (FIRE DEPARTMENT)',\n",
       " 'ASSISTANT CHIEF ATTORNEY I',\n",
       " 'ASSISTANT CHIEF ATTORNEY I',\n",
       " 'ASSISTANT CHIEF ATTORNEY I',\n",
       " 'ASSISTANT CHIEF ATTORNEY I',\n",
       " 'ASSISTANT CHIEF ATTORNEY I',\n",
       " 'ASSISTANT CHIEF ATTORNEY I',\n",
       " 'ASSISTANT CHIEF ATTORNEY I',\n",
       " 'ASSISTANT CHIEF ATTORNEY I',\n",
       " 'ASSISTANT CHIEF ATTORNEY I',\n",
       " 'ASSISTANT CHIEF ATTORNEY I',\n",
       " 'ASSISTANT CHIEF ATTORNEY I',\n",
       " 'ASSISTANT CHIEF ATTORNEY I',\n",
       " 'ASSISTANT CHIEF ATTORNEY I',\n",
       " 'ASSISTANT CHIEF ATTORNEY I',\n",
       " 'ASSISTANT CHIEF ATTORNEY I',\n",
       " 'ASSISTANT CHIEF ATTORNEY I',\n",
       " 'ASSISTANT CHIEF ATTORNEY I',\n",
       " 'ASSISTANT CHIEF ATTORNEY I',\n",
       " 'BATTALION CHIEF, (FIRE DEPARTMENT)',\n",
       " 'ASSISTANT CHIEF ATTORNEY I',\n",
       " 'ASSISTANT CHIEF ATTORNEY I',\n",
       " 'BATTALION CHIEF, (FIRE DEPARTMENT)',\n",
       " 'BATTALION CHIEF, (FIRE DEPARTMENT)',\n",
       " 'BATTALION CHIEF, (FIRE DEPARTMENT)',\n",
       " 'BATTALION CHIEF, (FIRE DEPARTMENT)',\n",
       " 'ASSISTANT CHIEF ATTORNEY I',\n",
       " 'ASSISTANT DEPUTY CHIEF II',\n",
       " 'BATTALION CHIEF, (FIRE DEPARTMENT)',\n",
       " 'CHIEF DEPUTY SHERIFF',\n",
       " 'ASST. CHIEF PROBATION OFFICER-JUVENILE PROBATION',\n",
       " 'CHIEF DEPUTY SHERIFF',\n",
       " 'CHIEF DEPUTY SHERIFF',\n",
       " 'BATTALION CHIEF, (FIRE DEPARTMENT)',\n",
       " 'ASSISTANT CHIEF ATTORNEY II',\n",
       " \"CHIEF DISTRICT ATTORNEY'S INVESTIGATOR\",\n",
       " 'CHIEF STATIONARY ENGINEER',\n",
       " 'CHIEF WATER SERVICE INSPECTOR',\n",
       " 'BATTALION CHIEF, (FIRE DEPARTMENT)',\n",
       " 'CHIEF ATTORNEY I (CIVIL & CRIMINAL)',\n",
       " 'CHIEF STATIONARY ENGINEER',\n",
       " 'CHIEF STATIONARY ENGINEER, WATER TREATMENT PLANT',\n",
       " 'CHIEF STATIONARY ENGINEER',\n",
       " 'CHIEF STATIONARY ENGINEER, WATER TREATMENT PLANT',\n",
       " 'ASST. CHIEF, BUREAU OF CLAIMS INVEST. & ADMIN',\n",
       " 'CHIEF STATIONARY ENGINEER, WATER TREATMENT PLANT',\n",
       " 'CHIEF BUILDING INSPECTOR',\n",
       " 'CHIEF BUILDING INSPECTOR',\n",
       " 'CHIEF PLUMBING INSPECTOR',\n",
       " 'CHIEF WATER SERVICE INSPECTOR',\n",
       " 'BATTALION CHIEF, (FIRE DEPARTMENT)',\n",
       " 'CHIEF STATIONARY ENGINEER, WATER TREATMENT PLANT',\n",
       " 'CHIEF ELECTRICAL INSPECTOR',\n",
       " 'CHIEF STATIONARY ENGINEER',\n",
       " 'CHIEF BUILDING INSPECTOR',\n",
       " 'CHIEF STATIONARY ENGINEER, SEWAGE PLANT',\n",
       " 'CHIEF STATIONARY ENGINEER, WATER TREATMENT PLANT',\n",
       " 'CHIEF STATIONARY ENGINEER, SEWAGE PLANT',\n",
       " 'CHIEF STATIONARY ENGINEER, SEWAGE PLANT',\n",
       " 'CHIEF STATIONARY ENGINEER, SEWAGE PLANT',\n",
       " 'CHIEF HOUSING INSPECTOR',\n",
       " \"ASSISTANT CHIEF DISTRICT ATTORNEY'S INVESTIGATOR\",\n",
       " 'CHIEF STATIONARY ENGINEER, SEWAGE PLANT',\n",
       " \"ASSISTANT CHIEF DISTRICT ATTORNEY'S INVESTIGATOR\",\n",
       " 'CHIEF STATIONARY ENGINEER, SEWAGE PLANT',\n",
       " \"ASSISTANT CHIEF DISTRICT ATTORNEY'S INVESTIGATOR\",\n",
       " \"ASSISTANT CHIEF DISTRICT ATTORNEY'S INVESTIGATOR\",\n",
       " 'CHIEF STATIONARY ENGINEER, SEWAGE PLANT',\n",
       " 'CHIEF WATER SERVICE INSPECTOR',\n",
       " 'CHIEF STATIONARY ENGINEER',\n",
       " 'CHIEF MICROBIOLOGIST',\n",
       " 'CHIEF SURVEYOR',\n",
       " 'CHIEF STATIONARY ENGINEER, SEWAGE PLANT',\n",
       " 'CHIEF STATIONARY ENGINEER, SEWAGE PLANT',\n",
       " 'CHIEF SURVEYOR',\n",
       " 'CHIEF FIRE ALARM DISPATCHER',\n",
       " 'CHIEF STATIONARY ENGINEER, SEWAGE PLANT',\n",
       " 'CHIEF STATIONARY ENGINEER, SEWAGE PLANT',\n",
       " 'CHIEF STATIONARY ENGINEER, SEWAGE PLANT',\n",
       " 'CHIEF STATIONARY ENGINEER',\n",
       " 'CHIEF SURVEYOR',\n",
       " 'CHIEF STATIONARY ENGINEER, SEWAGE PLANT',\n",
       " 'CHIEF STATIONARY ENGINEER',\n",
       " 'CHIEF STATIONARY ENGINEER, SEWAGE PLANT',\n",
       " 'CHIEF STATIONARY ENGINEER, SEWAGE PLANT',\n",
       " 'CHIEF STATIONARY ENGINEER, SEWAGE PLANT',\n",
       " 'CHIEF STATIONARY ENGINEER, SEWAGE PLANT',\n",
       " 'CHIEF STATIONARY ENGINEER, SEWAGE PLANT',\n",
       " 'CHIEF STATIONARY ENGINEER, SEWAGE PLANT',\n",
       " 'CHIEF STATIONARY ENGINEER, SEWAGE PLANT',\n",
       " 'CHIEF STATIONARY ENGINEER',\n",
       " 'CHIEF STATIONARY ENGINEER',\n",
       " 'CHIEF STATIONARY ENGINEER',\n",
       " 'CHIEF VICTIM/WITNESS INVESTIGATOR',\n",
       " 'CHIEF STATIONARY ENGINEER',\n",
       " 'CHIEF STATIONARY ENGINEER',\n",
       " 'CHIEF STATIONARY ENGINEER',\n",
       " 'CHIEF SURVEYOR',\n",
       " 'ASSISTANT CHIEF VICTIM/WITNESS INVESTIGATOR',\n",
       " 'ASSISTANT CHIEF VICTIM/WITNESS INVESTIGATOR',\n",
       " 'ASSISTANT CHIEF VICTIM/WITNESS INVESTIGATOR',\n",
       " 'ASSISTANT CHIEF VICTIM/WITNESS INVESTIGATOR',\n",
       " 'CHIEF STATIONARY ENGINEER',\n",
       " 'ASSISTANT CHIEF VICTIM/WITNESS INVESTIGATOR',\n",
       " 'CHIEF NURSERY SPECIALIST',\n",
       " 'CHIEF DIETITIAN',\n",
       " 'CHIEF DIETITIAN',\n",
       " 'CHIEF PAYROLL AND PERSONNEL CLERK',\n",
       " 'CHIEF CLERK',\n",
       " 'CHIEF PAYROLL AND PERSONNEL CLERK',\n",
       " 'CHIEF CLERK',\n",
       " 'ASSISTANT CHIEF OF DEPARTMENT, (FIRE DEPARTMENT)',\n",
       " 'CHIEF CLERK',\n",
       " 'CHIEF CLERK',\n",
       " 'CHIEF CLERK',\n",
       " 'CHIEF CLERK',\n",
       " 'CHIEF CLERK',\n",
       " 'CHIEF CLERK',\n",
       " 'CHIEF CLERK',\n",
       " 'CHIEF CLERK',\n",
       " 'CHIEF DEPUTY ADULT PROBATION OFFICER',\n",
       " 'CHIEF PAYROLL AND PERSONNEL CLERK',\n",
       " 'CHIEF CLERK',\n",
       " 'CHIEF STATIONARY ENGINEER, SEWAGE PLANT',\n",
       " 'CHIEF CLERK',\n",
       " 'CHIEF CLERK',\n",
       " 'ASSISTANT CHIEF ATTORNEY I',\n",
       " 'CHIEF CLERK',\n",
       " 'CHIEF ATTORNEY I (CIVIL & CRIMINAL)',\n",
       " 'ASSISTANT CHIEF ATTORNEY I',\n",
       " 'CHIEF SURVEYOR',\n",
       " 'CHIEF TELEPHONE OPERATOR',\n",
       " 'CHIEF DEPUTY ADULT PROBATION OFFICER',\n",
       " 'CHIEF PREPARATOR',\n",
       " 'CHIEF CLERK',\n",
       " 'CHIEF STATIONARY ENGINEER',\n",
       " 'CHIEF STATIONARY ENGINEER, SEWAGE PLANT',\n",
       " 'CHIEF PREPARATOR',\n",
       " 'BATTALION CHIEF, (FIRE DEPARTMENT)',\n",
       " 'CHIEF SURVEYOR',\n",
       " 'CHIEF PAYROLL AND PERSONNEL CLERK',\n",
       " 'CHIEF ADULT PROBATION OFFICER',\n",
       " 'Chief of Police',\n",
       " 'Chief, Fire Department',\n",
       " 'Battlion Chief, Fire Suppressi',\n",
       " 'Battlion Chief, Fire Suppressi',\n",
       " 'Battlion Chief, Fire Suppressi',\n",
       " 'Battlion Chief, Fire Suppressi',\n",
       " 'Assistant Deputy Chief 2',\n",
       " 'Assistant Deputy Chief 2',\n",
       " 'Deputy Chief 3',\n",
       " 'Assistant Deputy Chief 2',\n",
       " 'Deputy Chief 3',\n",
       " 'Deputy Chief 3',\n",
       " 'Battlion Chief, Fire Suppressi',\n",
       " 'Deputy Chief 3',\n",
       " 'Battlion Chief, Fire Suppressi',\n",
       " 'Battlion Chief, Fire Suppressi',\n",
       " 'Battlion Chief, Fire Suppressi',\n",
       " 'Battlion Chief, Fire Suppressi',\n",
       " 'Battlion Chief, Fire Suppressi',\n",
       " 'Battlion Chief, Fire Suppressi',\n",
       " 'Battlion Chief, Fire Suppressi',\n",
       " 'Battlion Chief, Fire Suppressi',\n",
       " 'Assistant Deputy Chief 2',\n",
       " 'Emergency Medical Svcs Chief',\n",
       " 'Deputy Chief 3',\n",
       " 'Battlion Chief, Fire Suppressi',\n",
       " 'Battlion Chief, Fire Suppressi',\n",
       " 'Deputy Chief 3',\n",
       " 'Battlion Chief, Fire Suppressi',\n",
       " 'Battlion Chief, Fire Suppressi',\n",
       " 'Battlion Chief, Fire Suppressi',\n",
       " 'Battlion Chief, Fire Suppressi',\n",
       " 'Chief Atty1 (Civil & Criminal)',\n",
       " 'Battlion Chief, Fire Suppressi',\n",
       " 'Battlion Chief, Fire Suppressi',\n",
       " 'Battlion Chief, Fire Suppressi',\n",
       " 'Battlion Chief, Fire Suppressi',\n",
       " 'Chief Atty1 (Civil & Criminal)',\n",
       " 'Chief Adult Probation Officer',\n",
       " 'Assistant Chief Attorney 2',\n",
       " 'Assistant Chief Attorney 2',\n",
       " 'Assistant Chief Attorney 2',\n",
       " 'Battlion Chief, Fire Suppressi',\n",
       " 'Assistant Chief Attorney 2',\n",
       " 'Assistant Chief Attorney 2',\n",
       " 'Battlion Chief, Fire Suppressi',\n",
       " 'Assistant Chief Attorney 1',\n",
       " 'Battlion Chief, Fire Suppressi',\n",
       " 'Assistant Chief Attorney 1',\n",
       " 'Assistant Chief Attorney 1',\n",
       " 'Assistant Chief Attorney 1',\n",
       " 'Assistant Chief Attorney 1',\n",
       " 'Assistant Chief Attorney 1',\n",
       " 'Assistant Chief Attorney 1',\n",
       " 'Assistant Chief Attorney 1',\n",
       " 'Assistant Chief Attorney 1',\n",
       " 'Assistant Chief Attorney 1',\n",
       " 'Assistant Chief Attorney 1',\n",
       " 'Assistant Chief Attorney 1',\n",
       " 'Assistant Chief Attorney 1',\n",
       " 'Assistant Chief Attorney 1',\n",
       " 'Assistant Chief Attorney 1',\n",
       " 'Assistant Chief Attorney 2',\n",
       " 'Battlion Chief, Fire Suppressi',\n",
       " 'Assistant Chief Attorney 1',\n",
       " 'Battlion Chief, Fire Suppressi',\n",
       " 'Battlion Chief, Fire Suppressi',\n",
       " 'Assistant Chief Attorney 1',\n",
       " 'Battlion Chief, Fire Suppressi',\n",
       " 'Assistant Chief Attorney 1',\n",
       " 'Chief Atty1 (Civil & Criminal)',\n",
       " 'Battlion Chief, Fire Suppressi',\n",
       " 'Chief Atty1 (Civil & Criminal)',\n",
       " 'Chief Atty1 (Civil & Criminal)',\n",
       " 'Chief Deputy Sheriff',\n",
       " 'Battlion Chief, Fire Suppressi',\n",
       " 'Chief Deputy Sheriff',\n",
       " 'Chief Stationary Engineer',\n",
       " 'Assistant Chief Attorney 1',\n",
       " 'Chief Deputy Sheriff',\n",
       " 'Chief Water Service Inspector',\n",
       " 'Chief Stationary Engineer',\n",
       " 'Assistant Deputy Chief 2',\n",
       " 'Chief Building Inspector',\n",
       " 'Battlion Chief, Fire Suppressi',\n",
       " 'Chief Plumbing Inspector',\n",
       " 'Chief Building Inspector',\n",
       " 'Chief Building Inspector',\n",
       " 'Chief Stationary Engineer',\n",
       " 'Chief Water Service Inspector',\n",
       " 'Assistant Chief Attorney 1',\n",
       " 'Chief Electrical Inspector',\n",
       " 'Chief Stationary Engineer',\n",
       " 'Chief Housing Inspector',\n",
       " 'Chief Dep Adlt Prob Of (SFERS)',\n",
       " 'Chief Fire Alarm Dispatcher',\n",
       " 'Chief Surveyor',\n",
       " 'Chief Stationary Engineer',\n",
       " 'Chief Water Service Inspector',\n",
       " 'Chief Surveyor',\n",
       " 'Chief Surveyor',\n",
       " 'Chief Stationary Engineer',\n",
       " 'Chief Stationary Engineer',\n",
       " 'Chief Stationary Engineer',\n",
       " 'Chief Stationary Engineer',\n",
       " 'Chief Surveyor',\n",
       " 'Chief Stationary Engineer',\n",
       " 'Chief Stationary Engineer',\n",
       " 'Chief Stationary Engineer',\n",
       " 'Battlion Chief, Fire Suppressi',\n",
       " 'Chief Stationary Engineer',\n",
       " 'Chief Nursery Specialist',\n",
       " 'Chief Dietitian',\n",
       " 'Chief Dietitian',\n",
       " 'Chief Deputy Sheriff',\n",
       " 'Chief Clerk',\n",
       " 'Chief Clerk',\n",
       " 'Chief Clerk',\n",
       " 'Chief Clerk',\n",
       " 'Chief Clerk',\n",
       " 'Chief Clerk',\n",
       " 'Chief Clerk',\n",
       " 'Chief Clerk',\n",
       " 'Chief Clerk',\n",
       " 'Chief Clerk',\n",
       " 'Chief Preparator',\n",
       " 'Chief Clerk',\n",
       " 'Chief Clerk',\n",
       " 'Chief Telephone Operator',\n",
       " 'Chief Clerk',\n",
       " 'Chief Clerk',\n",
       " 'Assistant Chief Attorney 1',\n",
       " 'Chief Deputy Adlt Probation Of',\n",
       " 'Assistant Chief Attorney 2',\n",
       " 'Assistant Chief Attorney 1',\n",
       " 'Chief Clerk',\n",
       " 'Chief Surveyor',\n",
       " 'Battlion Chief, Fire Suppressi',\n",
       " 'Chief Deputy Adlt Probation Of',\n",
       " 'Chief Clerk',\n",
       " 'Battlion Chief, Fire Suppressi',\n",
       " 'Chief of Police',\n",
       " 'Chief, Fire Department',\n",
       " 'Battalion Chief, Fire Suppress',\n",
       " 'Deputy Chief 3',\n",
       " 'Battalion Chief, Fire Suppress',\n",
       " 'Battalion Chief, Fire Suppress',\n",
       " 'Battalion Chief, Fire Suppress',\n",
       " 'Deputy Chief 3',\n",
       " 'Assistant Deputy Chief 2',\n",
       " 'Deputy Chief 3',\n",
       " 'Battalion Chief, Fire Suppress',\n",
       " 'Deputy Chief 3',\n",
       " 'Deputy Chief 3',\n",
       " 'Battalion Chief, Fire Suppress',\n",
       " 'Battalion Chief, Fire Suppress',\n",
       " 'Battalion Chief, Fire Suppress',\n",
       " 'Battalion Chief, Fire Suppress',\n",
       " 'Battalion Chief, Fire Suppress',\n",
       " 'Battalion Chief, Fire Suppress',\n",
       " 'Battalion Chief, Fire Suppress',\n",
       " 'Battalion Chief, Fire Suppress',\n",
       " 'Battalion Chief, Fire Suppress',\n",
       " 'Assistant Deputy Chief 2',\n",
       " 'Battalion Chief, Fire Suppress',\n",
       " 'Assistant Deputy Chief 2',\n",
       " 'Emergency Medical Svcs Chief',\n",
       " 'Assistant Deputy Chief 2',\n",
       " 'Battalion Chief, Fire Suppress',\n",
       " 'Battalion Chief, Fire Suppress',\n",
       " 'Battalion Chief, Fire Suppress',\n",
       " 'Battalion Chief, Fire Suppress',\n",
       " 'Battalion Chief, Fire Suppress',\n",
       " 'Battalion Chief, Fire Suppress',\n",
       " 'Battalion Chief, Fire Suppress',\n",
       " 'Battalion Chief, Fire Suppress',\n",
       " 'Assistant Deputy Chief 2',\n",
       " 'Battalion Chief, Fire Suppress',\n",
       " 'Battalion Chief, Fire Suppress',\n",
       " 'Battalion Chief, Fire Suppress',\n",
       " 'Battalion Chief, Fire Suppress',\n",
       " 'Chief Atty1 (Civil & Criminal)',\n",
       " 'Battalion Chief, Fire Suppress',\n",
       " 'Chief Atty1 (Civil & Criminal)',\n",
       " 'Battalion Chief, Fire Suppress',\n",
       " 'Chief Atty1 (Civil & Criminal)',\n",
       " 'Assistant Chief Attorney 2',\n",
       " 'Chief Adult Probation Officer',\n",
       " 'Assistant Chief Attorney 2',\n",
       " 'Assistant Chief Attorney 2',\n",
       " 'Assistant Chief Attorney 2',\n",
       " 'Assistant Chief Attorney 2',\n",
       " 'Assistant Chief Attorney 2',\n",
       " 'Battalion Chief, Fire Suppress',\n",
       " 'Chief Atty1 (Civil & Criminal)',\n",
       " 'Assistant Chief Attorney 1',\n",
       " 'Assistant Chief Attorney 1',\n",
       " 'Assistant Chief Attorney 1',\n",
       " 'Assistant Chief Attorney 1',\n",
       " 'Assistant Chief Attorney 1',\n",
       " 'Assistant Chief Attorney 1',\n",
       " 'Assistant Chief Attorney 1',\n",
       " 'Assistant Chief Attorney 1',\n",
       " 'Assistant Chief Attorney 1',\n",
       " 'Assistant Chief Attorney 1',\n",
       " 'Assistant Chief Attorney 1',\n",
       " 'Assistant Chief Attorney 1',\n",
       " 'Assistant Chief Attorney 1',\n",
       " 'Assistant Chief Attorney 1',\n",
       " 'Battalion Chief, Fire Suppress',\n",
       " 'Assistant Chief Attorney 1',\n",
       " 'Assistant Chief Attorney 1',\n",
       " 'Assistant Chief Attorney 1',\n",
       " 'Battalion Chief, Fire Suppress',\n",
       " 'Assistant Chief Attorney 1',\n",
       " 'Assistant Chief Attorney 1',\n",
       " 'Assistant Chief Attorney 1',\n",
       " 'Assistant Chief Attorney 1',\n",
       " 'Chief Deputy Sheriff',\n",
       " 'Chief Deputy Sheriff',\n",
       " 'Chief Deputy Sheriff',\n",
       " 'Chief Dep Adlt Prob Of (SFERS)',\n",
       " 'Chief Stationary Engineer',\n",
       " 'Deputy Chief 3',\n",
       " 'Chief Water Service Inspector',\n",
       " 'Chief Stationary Engineer',\n",
       " 'Chief Plumbing Inspector',\n",
       " 'Chief Building Inspector',\n",
       " 'Chief Building Inspector',\n",
       " 'Chief Building Inspector',\n",
       " 'Chief Water Service Inspector',\n",
       " 'Chief Electrical Inspector',\n",
       " 'Chief Building Inspector',\n",
       " 'Chief Stationary Engineer',\n",
       " 'Chief Water Service Inspector',\n",
       " 'Chief Housing Inspector',\n",
       " 'Chief Fire Alarm Dispatcher',\n",
       " 'Chief Stationary Engineer',\n",
       " 'Chief Surveyor',\n",
       " 'Chief Surveyor',\n",
       " 'Chief Surveyor',\n",
       " 'Chief Stationary Engineer',\n",
       " 'Chief Stationary Engineer',\n",
       " 'Chief Stationary Engineer',\n",
       " 'Chief Surveyor',\n",
       " 'Deputy Chief 3',\n",
       " 'Chief Stationary Engineer',\n",
       " 'Chief Stationary Engineer',\n",
       " 'Chief Stationary Engineer',\n",
       " 'Chief Dietitian',\n",
       " 'Chief Nursery Specialist',\n",
       " 'Chief Building Inspector',\n",
       " 'Chief Stationary Engineer',\n",
       " 'Chief Dietitian',\n",
       " 'Chief Clerk',\n",
       " 'Chief Clerk',\n",
       " 'Chief Clerk',\n",
       " 'Chief Clerk',\n",
       " 'Chief Clerk',\n",
       " 'Chief Clerk',\n",
       " 'Chief Clerk',\n",
       " 'Chief Clerk',\n",
       " 'Chief Clerk',\n",
       " 'Chief Clerk',\n",
       " 'Chief Clerk',\n",
       " 'Chief Clerk',\n",
       " 'Chief Preparator',\n",
       " 'Chief Clerk',\n",
       " 'Chief Telephone Operator',\n",
       " 'Chief Stationary Engineer',\n",
       " 'Chief Stationary Engineer',\n",
       " 'Assistant Chief Attorney 1',\n",
       " 'Assistant Chief Attorney 1',\n",
       " 'Battalion Chief, Fire Suppress',\n",
       " 'Chief Deputy Adlt Probation Of',\n",
       " 'Chief Stationary Engineer',\n",
       " 'Assistant Chief Attorney 1',\n",
       " 'Chief Surveyor',\n",
       " 'Chief Clerk',\n",
       " 'Battalion Chief, Fire Suppress',\n",
       " 'Chief Preparator',\n",
       " 'Chief Clerk',\n",
       " 'Chief Clerk',\n",
       " 'Deputy Chief 3',\n",
       " 'Chief Investment Officer',\n",
       " 'Chief of Police',\n",
       " 'Chief, Fire Department',\n",
       " 'Battalion Chief, Fire Suppress',\n",
       " 'Battalion Chief, Fire Suppress',\n",
       " 'Battalion Chief, Fire Suppress',\n",
       " 'Deputy Chief 3',\n",
       " 'Deputy Chief 3',\n",
       " 'Deputy Chief 3',\n",
       " 'Deputy Chief 3',\n",
       " 'Battalion Chief, Fire Suppress',\n",
       " 'Battalion Chief, Fire Suppress',\n",
       " 'Battalion Chief, Fire Suppress',\n",
       " 'Deputy Chief 3',\n",
       " 'Battalion Chief, Fire Suppress',\n",
       " 'Battalion Chief, Fire Suppress',\n",
       " 'Battalion Chief, Fire Suppress',\n",
       " 'Assistant Deputy Chief 2',\n",
       " 'Battalion Chief, Fire Suppress',\n",
       " 'Battalion Chief, Fire Suppress',\n",
       " 'Emergency Medical Svcs Chief',\n",
       " 'Battalion Chief, Fire Suppress',\n",
       " 'Battalion Chief, Fire Suppress',\n",
       " 'Battalion Chief, Fire Suppress',\n",
       " 'Battalion Chief, Fire Suppress',\n",
       " 'Battalion Chief, Fire Suppress',\n",
       " 'Battalion Chief, Fire Suppress',\n",
       " 'Battalion Chief, Fire Suppress',\n",
       " 'Battalion Chief, Fire Suppress',\n",
       " 'Battalion Chief, Fire Suppress',\n",
       " 'Battalion Chief, Fire Suppress',\n",
       " 'Battalion Chief, Fire Suppress',\n",
       " 'Battalion Chief, Fire Suppress',\n",
       " 'Battalion Chief, Fire Suppress',\n",
       " 'Battalion Chief, Fire Suppress',\n",
       " 'Battalion Chief, Fire Suppress',\n",
       " 'Chief Atty1 (Civil & Criminal)',\n",
       " 'Chief Forensic Toxicologist',\n",
       " 'Chief Atty1 (Civil & Criminal)',\n",
       " 'Chief Atty1 (Civil & Criminal)',\n",
       " 'Battalion Chief, Fire Suppress',\n",
       " 'Chief Atty1 (Civil & Criminal)',\n",
       " 'Chief Adult Probation Officer',\n",
       " 'Assistant Chief Attorney 2',\n",
       " 'Assistant Chief Attorney 2',\n",
       " 'Assistant Chief Attorney 2',\n",
       " 'Assistant Chief Attorney 2',\n",
       " 'Assistant Chief Attorney 2',\n",
       " 'Battalion Chief, Fire Suppress',\n",
       " 'Assistant Chief Attorney 1',\n",
       " 'Assistant Chief Attorney 1',\n",
       " 'Assistant Chief Attorney 1',\n",
       " 'Assistant Chief Attorney 1',\n",
       " 'Assistant Chief Attorney 1',\n",
       " 'Assistant Chief Attorney 1',\n",
       " 'Assistant Chief Attorney 1',\n",
       " 'Assistant Chief Attorney 1',\n",
       " 'Battalion Chief, Fire Suppress',\n",
       " 'Assistant Chief Attorney 1',\n",
       " 'Assistant Chief Attorney 1',\n",
       " 'Assistant Chief Attorney 1',\n",
       " 'Assistant Chief Attorney 1',\n",
       " 'Assistant Chief Attorney 1',\n",
       " 'Assistant Chief Attorney 1',\n",
       " 'Assistant Chief Attorney 1',\n",
       " 'Assistant Chief Attorney 1',\n",
       " 'Assistant Chief Attorney 1',\n",
       " 'Assistant Chief Attorney 1',\n",
       " 'Assistant Chief Attorney 1',\n",
       " 'Assistant Chief Attorney 1',\n",
       " 'Battalion Chief, Fire Suppress',\n",
       " 'Battalion Chief, Fire Suppress',\n",
       " 'Deputy Chief 3',\n",
       " 'Assistant Chief Attorney 1',\n",
       " 'Assistant Chief Attorney 1',\n",
       " 'Chief Deputy Sheriff',\n",
       " 'Chief Deputy Sheriff',\n",
       " 'Chief Deputy Sheriff',\n",
       " 'Chief Dep Adlt Prob Of (SFERS)',\n",
       " 'Deputy Chief 3',\n",
       " 'Chief Water Service Inspector',\n",
       " 'Chief Stationary Engineer',\n",
       " 'Chief Building Inspector',\n",
       " 'Chief Water Service Inspector',\n",
       " 'Chief Building Inspector',\n",
       " 'Chief Plumbing Inspector',\n",
       " 'Chief Building Inspector',\n",
       " 'Chief Building Inspector',\n",
       " 'Chief Electrical Inspector',\n",
       " 'Chief Stationary Engineer',\n",
       " 'Chief Stationary Engineer',\n",
       " 'Chief Stationary Engineer',\n",
       " 'Chief Stationary Engineer',\n",
       " 'Chief Water Service Inspector',\n",
       " 'Chief Surveyor',\n",
       " 'Chief Surveyor',\n",
       " 'Chief Surveyor',\n",
       " 'Chief Surveyor',\n",
       " 'Chief Stationary Engineer',\n",
       " 'Chief Surveyor',\n",
       " 'Chief Surveyor',\n",
       " 'Chief Stationary Engineer',\n",
       " 'Chief Stationary Engineer',\n",
       " 'Chief Stationary Engineer',\n",
       " 'Chief Atty1 (Civil & Criminal)',\n",
       " 'Chief Stationary Engineer',\n",
       " 'Chief Stationary Engineer',\n",
       " 'Chief Housing Inspector',\n",
       " 'Chief Stationary Engineer',\n",
       " 'Chief Stationary Engineer',\n",
       " 'Chief Stationary Engineer',\n",
       " 'Chief Fire Alarm Dispatcher',\n",
       " 'Chief Surveyor',\n",
       " 'Chief Dietitian',\n",
       " 'Chief Stationary Engineer',\n",
       " 'Chief Surveyor',\n",
       " 'Chief Clerk',\n",
       " 'Chief Clerk',\n",
       " 'Chief Clerk',\n",
       " 'Chief Clerk',\n",
       " 'Chief Clerk',\n",
       " 'Chief Clerk',\n",
       " 'Chief Clerk',\n",
       " 'Chief Clerk',\n",
       " 'Assistant Chief Attorney 1',\n",
       " 'Chief Clerk',\n",
       " 'Chief Clerk',\n",
       " 'Chief Clerk',\n",
       " 'Chief Telephone Operator',\n",
       " 'Assistant Chief Attorney 1',\n",
       " 'Chief Clerk',\n",
       " 'Chief Preparator',\n",
       " 'Chief Surveyor',\n",
       " 'Assistant Chief Attorney 1',\n",
       " 'Chief Deputy Adlt Probation Of',\n",
       " 'Chief Clerk',\n",
       " 'Chief Nursery Specialist',\n",
       " 'Chief Preparator',\n",
       " 'Chief Stationary Engineer']"
      ]
     },
     "execution_count": 141,
     "metadata": {},
     "output_type": "execute_result"
    }
   ],
   "source": [
    "[x  for x  in sal['JobTitle'] if 'chief' in x.lower()]"
   ]
  },
  {
   "cell_type": "code",
   "execution_count": 21,
   "metadata": {
    "collapsed": false,
    "jupyter": {
     "outputs_hidden": false
    }
   },
   "outputs": [
    {
     "data": {
      "text/plain": [
       "477"
      ]
     },
     "execution_count": 21,
     "metadata": {},
     "output_type": "execute_result"
    }
   ],
   "source": []
  },
  {
   "cell_type": "markdown",
   "metadata": {},
   "source": [
    "** Bonus: Is there a correlation between length of the Job Title string and Salary? **"
   ]
  },
  {
   "cell_type": "code",
   "execution_count": 147,
   "metadata": {
    "collapsed": false,
    "jupyter": {
     "outputs_hidden": false
    }
   },
   "outputs": [
    {
     "data": {
      "text/html": [
       "<div>\n",
       "<style scoped>\n",
       "    .dataframe tbody tr th:only-of-type {\n",
       "        vertical-align: middle;\n",
       "    }\n",
       "\n",
       "    .dataframe tbody tr th {\n",
       "        vertical-align: top;\n",
       "    }\n",
       "\n",
       "    .dataframe thead th {\n",
       "        text-align: right;\n",
       "    }\n",
       "</style>\n",
       "<table border=\"1\" class=\"dataframe\">\n",
       "  <thead>\n",
       "    <tr style=\"text-align: right;\">\n",
       "      <th></th>\n",
       "      <th>titleLen</th>\n",
       "      <th>BasePay</th>\n",
       "    </tr>\n",
       "  </thead>\n",
       "  <tbody>\n",
       "    <tr>\n",
       "      <th>titleLen</th>\n",
       "      <td>1.000000</td>\n",
       "      <td>-0.005059</td>\n",
       "    </tr>\n",
       "    <tr>\n",
       "      <th>BasePay</th>\n",
       "      <td>-0.005059</td>\n",
       "      <td>1.000000</td>\n",
       "    </tr>\n",
       "  </tbody>\n",
       "</table>\n",
       "</div>"
      ],
      "text/plain": [
       "          titleLen   BasePay\n",
       "titleLen  1.000000 -0.005059\n",
       "BasePay  -0.005059  1.000000"
      ]
     },
     "execution_count": 147,
     "metadata": {},
     "output_type": "execute_result"
    }
   ],
   "source": [
    "sal['titleLen'] = sal['JobTitle'].apply(len)\n",
    "sal[['titleLen', 'BasePay']].corr()"
   ]
  },
  {
   "cell_type": "code",
   "execution_count": 23,
   "metadata": {
    "collapsed": false,
    "jupyter": {
     "outputs_hidden": false
    }
   },
   "outputs": [
    {
     "data": {
      "text/html": [
       "<div>\n",
       "<table border=\"1\" class=\"dataframe\">\n",
       "  <thead>\n",
       "    <tr style=\"text-align: right;\">\n",
       "      <th></th>\n",
       "      <th>title_len</th>\n",
       "      <th>TotalPayBenefits</th>\n",
       "    </tr>\n",
       "  </thead>\n",
       "  <tbody>\n",
       "    <tr>\n",
       "      <th>title_len</th>\n",
       "      <td>1.000000</td>\n",
       "      <td>-0.036878</td>\n",
       "    </tr>\n",
       "    <tr>\n",
       "      <th>TotalPayBenefits</th>\n",
       "      <td>-0.036878</td>\n",
       "      <td>1.000000</td>\n",
       "    </tr>\n",
       "  </tbody>\n",
       "</table>\n",
       "</div>"
      ],
      "text/plain": [
       "                  title_len  TotalPayBenefits\n",
       "title_len          1.000000         -0.036878\n",
       "TotalPayBenefits  -0.036878          1.000000"
      ]
     },
     "execution_count": 23,
     "metadata": {},
     "output_type": "execute_result"
    }
   ],
   "source": []
  },
  {
   "cell_type": "markdown",
   "metadata": {},
   "source": [
    "# Great Job!"
   ]
  }
 ],
 "metadata": {
  "kernelspec": {
   "display_name": "Python 3 (ipykernel)",
   "language": "python",
   "name": "python3"
  },
  "language_info": {
   "codemirror_mode": {
    "name": "ipython",
    "version": 3
   },
   "file_extension": ".py",
   "mimetype": "text/x-python",
   "name": "python",
   "nbconvert_exporter": "python",
   "pygments_lexer": "ipython3",
   "version": "3.12.4"
  }
 },
 "nbformat": 4,
 "nbformat_minor": 4
}
